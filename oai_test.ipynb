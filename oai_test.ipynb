{
 "cells": [
  {
   "cell_type": "markdown",
   "metadata": {},
   "source": [
    "## Why to Read this Tutorial?\n",
    "* xxx\n",
    "* yyy"
   ]
  },
  {
   "cell_type": "markdown",
   "metadata": {},
   "source": [
    "### Preparation\n",
    "\n",
    "The following code snippet initializes your Python run-time enviroment in order to run all of the subsequent actions.\n",
    "\n",
    "If you installed everything correctly with the help of [Anaconda](https://www.continuum.io/downloads) as explained in [dst4l0.ipynb](dst4l0.ipynb), the following packages should be installed correctly."
   ]
  },
  {
   "cell_type": "code",
   "execution_count": 1,
   "metadata": {
    "collapsed": true
   },
   "outputs": [],
   "source": [
    "import lxml\n",
    "import requests"
   ]
  },
  {
   "cell_type": "markdown",
   "metadata": {},
   "source": [
    "However, [_sickle_](https://sickle.readthedocs.org/en/latest/index.html), a library of OAI harvesting, is most likely missing but can be installed easily by running the following cell."
   ]
  },
  {
   "cell_type": "code",
   "execution_count": 5,
   "metadata": {
    "collapsed": false,
    "scrolled": true
   },
   "outputs": [
    {
     "name": "stdout",
     "output_type": "stream",
     "text": [
      "Requirement already satisfied (use --upgrade to upgrade): sickle in /anaconda/lib/python2.7/site-packages\r\n",
      "Requirement already satisfied (use --upgrade to upgrade): lxml>=3.2.3 in /anaconda/lib/python2.7/site-packages (from sickle)\r\n",
      "Requirement already satisfied (use --upgrade to upgrade): requests>=1.1.0 in /anaconda/lib/python2.7/site-packages (from sickle)\r\n"
     ]
    }
   ],
   "source": [
    "!pip install sickle"
   ]
  },
  {
   "cell_type": "markdown",
   "metadata": {},
   "source": [
    "```\n",
    "Collecting sickle\n",
    "  Downloading Sickle-0.4.tar.gz (43kB)\n",
    "    100% |████████████████████████████████| 45kB 841kB/s \n",
    "\u001b[?25hRequirement already satisfied (use --upgrade to upgrade): requests>=1.1.0 in /anaconda/lib/python2.7/site-packages (from sickle)\n",
    "Requirement already satisfied (use --upgrade to upgrade): lxml>=3.2.3 in /anaconda/lib/python2.7/site-packages (from sickle)\n",
    "Building wheels for collected packages: sickle\n",
    "  Running setup.py bdist_wheel for sickle\n",
    "  Stored in directory: /Users/(...)/pip/wheels/22/23/ec/fefdf1a66b682781b69542bd98a084cee71ba96c701f4d3774\n",
    "Successfully built sickle\n",
    "Installing collected packages: sickle\n",
    "Successfully installed sickle-0.4\n",
    "```\n",
    "\n",
    "After a proper installation that should display an output similar to the one above, we can import _sickle_ in order to make it available to our Python environment. "
   ]
  },
  {
   "cell_type": "code",
   "execution_count": 6,
   "metadata": {
    "collapsed": false
   },
   "outputs": [],
   "source": [
    "import sickle"
   ]
  },
  {
   "cell_type": "code",
   "execution_count": null,
   "metadata": {
    "collapsed": true
   },
   "outputs": [],
   "source": []
  }
 ],
 "metadata": {
  "kernelspec": {
   "display_name": "Python 2",
   "language": "python",
   "name": "python2"
  },
  "language_info": {
   "codemirror_mode": {
    "name": "ipython",
    "version": 2
   },
   "file_extension": ".py",
   "mimetype": "text/x-python",
   "name": "python",
   "nbconvert_exporter": "python",
   "pygments_lexer": "ipython2",
   "version": "2.7.10"
  }
 },
 "nbformat": 4,
 "nbformat_minor": 0
}
