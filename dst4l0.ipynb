{
 "cells": [
  {
   "cell_type": "markdown",
   "metadata": {},
   "source": [
    "# Table of Contents\n",
    "* [Before We Start](#Before-We-Start)\n",
    "\t* [Programming Resources](#Programming-Resources)\n",
    "\t* [Github](#Github)\n",
    "\t\t* [Windows](#Windows)\n",
    "\t\t* [Mac](#Mac)\n",
    "\t\t* [tutorials](#tutorials)\n",
    "\t* [Getting Python](#Getting-Python)\n",
    "\t* [Recommended Method: Anaconda](#Recommended-Method:-Anaconda)\n",
    "\t\t* [Mac/Linux users](#Mac/Linux-users)\n",
    "\t\t* [Windows Users](#Windows-Users)\n",
    "\t* [Installing additional libraries](#Installing-additional-libraries)\n",
    "* [Extra Stuff](#Extra-Stuff)\n",
    "\t* [Opening IPython Notebooks in other folders](#Opening-IPython-Notebooks-in-other-folders)\n",
    "\t* [Updating from older Anaconda versions](#Updating-from-older-Anaconda-versions)\n",
    "* [Troubleshooting](#Troubleshooting)\n",
    "* [Hello, Python](#Hello,-Python)\n",
    "\t* [Python Libraries](#Python-Libraries)\n",
    "\t* [Hello World](#Hello-World)\n",
    "\t* [Hello matplotlib](#Hello-matplotlib)\n",
    "\t* [Hello Numpy](#Hello-Numpy)\n"
   ]
  },
  {
   "cell_type": "markdown",
   "metadata": {},
   "source": [
    "# Before We Start"
   ]
  },
  {
   "cell_type": "markdown",
   "metadata": {},
   "source": [
    "---\n",
    "\n",
    "In this class, we will be using a variety of tools that will require some initial configuration. To ensure everything goes smoothly moving forward, we will setup the majority of those tools here. While some of this will likely be dull, doing it now will enable us to do more exciting stuff that follows without getting bogged down in further software configuration."
   ]
  },
  {
   "cell_type": "markdown",
   "metadata": {},
   "source": [
    "## Programming Resources"
   ]
  },
  {
   "cell_type": "markdown",
   "metadata": {},
   "source": [
    "There are many online tutorials to introduce you to scientific python programming. [Here is one](https://github.com/jrjohansson/scientific-python-lectures) that is very nice. Lectures 1-4 are most relevant to this class."
   ]
  },
  {
   "cell_type": "markdown",
   "metadata": {},
   "source": [
    "## Github"
   ]
  },
  {
   "cell_type": "markdown",
   "metadata": {},
   "source": [
    "https://github.com\n",
    "\n",
    "MANDATORY: Create your github account. We will need your github username."
   ]
  },
  {
   "cell_type": "markdown",
   "metadata": {},
   "source": [
    "### Windows"
   ]
  },
  {
   "cell_type": "markdown",
   "metadata": {},
   "source": [
    "https://desktop.github.com\n",
    "\n",
    "Or use git-bash id you prefer the command line: https://msysgit.github.io"
   ]
  },
  {
   "cell_type": "markdown",
   "metadata": {},
   "source": [
    "### Mac"
   ]
  },
  {
   "cell_type": "markdown",
   "metadata": {},
   "source": [
    "https://desktop.github.com\n",
    "\n",
    "Or install command line via brew if you are a brew user\n",
    "\n",
    "Linux install via rpm or apt-get"
   ]
  },
  {
   "cell_type": "markdown",
   "metadata": {},
   "source": [
    "### Tutorials"
   ]
  },
  {
   "cell_type": "markdown",
   "metadata": {},
   "source": [
    "A great \"getting started\" tutorial is https://guides.github.com/introduction/getting-your-project-on-github/ . If you are new to github, please read this."
   ]
  },
  {
   "cell_type": "markdown",
   "metadata": {},
   "source": [
    "## Getting Python"
   ]
  },
  {
   "cell_type": "markdown",
   "metadata": {},
   "source": [
    "You will be using Python throughout the course, including many popular 3rd party Python libraries for scientific computing. [Anaconda](http://continuum.io/downloads) is an easy-to-install bundle of Python and most of these libraries. MANDATORY: you MUST use Anaconda for this course.\n",
    "\n",
    "<hline>"
   ]
  },
  {
   "cell_type": "markdown",
   "metadata": {},
   "source": [
    "Also see: http://docs.continuum.io/anaconda/install\n",
    "\n",
    "**Step 0** \n",
    "The IPython notebook runs in the browser, and works best in Google Chrome. You probably want to use Chrome for assignments in this course"
   ]
  },
  {
   "cell_type": "markdown",
   "metadata": {},
   "source": [
    "## Recommended Method: Anaconda"
   ]
  },
  {
   "cell_type": "markdown",
   "metadata": {},
   "source": [
    "The Anaconda Python distribution is an easily-installable bundle of Python and many of the libraries used throughout this class. Unless you have a good reason not to, we recommend that you use Anaconda."
   ]
  },
  {
   "cell_type": "markdown",
   "metadata": {},
   "source": [
    "### Mac/Linux users"
   ]
  },
  {
   "cell_type": "markdown",
   "metadata": {},
   "source": [
    "1. Download the [appropriate version](http://continuum.io/downloads) of Anaconda\n",
    "1. Follow the instructions on that page to run the installer\n",
    "1. Test out the IPython notebook: open a Terminal window, and type `ipython notebook`. Or use the Anaconda Launcher which might have been deposited on your desktop. A new browser window should pop up. \n",
    "1. Click `New Notebook` to create a new notebook file. **Trick**: give this notebook a unique name, like `my-little-rose`. Use Spotlight (upper right corner of the mac desktop, looks like a maginifier) to search for this name. In this way, you will know which folder your notebook opens in by default."
   ]
  },
  {
   "cell_type": "markdown",
   "metadata": {},
   "source": [
    "### Windows Users"
   ]
  },
  {
   "cell_type": "markdown",
   "metadata": {},
   "source": [
    "1. Download the [appropriate version](http://continuum.io/downloads) of Anaconda\n",
    "1. Follow the instructions on that page to run the installer. This will create a directory at `C:\\Anaconda`\n",
    "1. Test it out: start the Anaconda launcher, which you can find in `C:\\Anaconda` or, in the Start menu. Start the IPython notebook. A new browser window should open. \n",
    "1. Click `New Notebook`, which should open a new page. **Trick**: give this notebook a unique name, like `my-little-rose`. Use Explorer (usually start menu on windows desktops) to search for this name. In this way, you will know which folder your notebook opens in by default.\n",
    "\n",
    "If you did not add Anaconda to your path, be sure to use the full path to the python and ipython executables, such as `/anaconda/bin/python`."
   ]
  },
  {
   "cell_type": "markdown",
   "metadata": {},
   "source": [
    "## Installing additional libraries"
   ]
  },
  {
   "cell_type": "markdown",
   "metadata": {},
   "source": [
    "Anaconda includes most of the libraries we will use in this course, but you will need to install a few extra ones:\n",
    "\n",
    "1. [Seaborn](http://web.stanford.edu/~mwaskom/software/seaborn/)\n",
    "1. [PyQuery](https://pythonhosted.org/pyquery/)\n",
    "\n",
    "The recommended way to install these packages is to run `!pip install BeautifulSoup mrjob pattern seaborn pyquery` in a code cell in the ipython notebook you just created. If this doesn't work, you can download the source code, and run `python setup.py install` from the source code directory. On Unix machines(Mac or Linux), either of these commands may require `sudo` (i.e. `sudo pip install...` or `sudo python`)"
   ]
  },
  {
   "cell_type": "markdown",
   "metadata": {},
   "source": [
    "## Opening IPython Notebooks in other folders"
   ]
  },
  {
   "cell_type": "markdown",
   "metadata": {},
   "source": [
    "To view an IPython notebook, you must first start the IPython notebook server in the directory where the file lives. Simply navigate to this directory at the command prompt, and type `ipython notebook`. This will open a browser window, listing all the `ipynb` files in that directory."
   ]
  },
  {
   "cell_type": "markdown",
   "metadata": {},
   "source": [
    "## Updating from older Anaconda versions"
   ]
  },
  {
   "cell_type": "markdown",
   "metadata": {},
   "source": [
    "You can easily update to the latest Anaconda version by updating conda, then Anaconda as follows:\n",
    "\n",
    "```\n",
    "conda update conda\n",
    "conda update anaconda\n",
    "```"
   ]
  },
  {
   "cell_type": "markdown",
   "metadata": {},
   "source": [
    "# Troubleshooting"
   ]
  },
  {
   "cell_type": "markdown",
   "metadata": {},
   "source": [
    "**Problem**\n",
    "When you start python, you don't see a line like `Python 2.7.5 |Anaconda 1.6.1 (x86_64)|`. You are using a Mac or Linux computer\n",
    "\n",
    "**Reason**\n",
    "You are most likely running a different version of Python, and need to modify your Path (the list of directories your computer looks through to find programs). \n",
    "\n",
    "**Solution**\n",
    "Find a file like `.bash_profile`, `.bashrc`, or `.profile`. Open the file in a text editor, and add a line at this line at the end: `export PATH=\"$HOME/anaconda/bin:$PATH\"`. Close the file, open a new terminal window, type `source ~/.profile` (or whatever file you just edited). Type `which python` -- you should see a path that points to the anaconda directory. If so, running `python` should load the proper version\n",
    "\n",
    "If this doesn't work (typing `which python` doesn't point to anaconda), you might be using a different shell. Type `echo $SHELL`. If this isn't `bash`, you need to edit a different startup file (for example, if if `echo $SHELL` gives `$csh`, you need to edit your `.cshrc` file. The syntax for this file is slightly different: `set PATH = ($HOME/anaconda/bin $PATH)`\n",
    "***\n",
    "\n",
    "**Problem**\n",
    "You are running the right version of python (see above item), but are unable to import numpy. \n",
    "\n",
    "**Reason**\n",
    "You are probably loading a different copy of numpy that is incompatible with Anaconda\n",
    "\n",
    "**Solution**\n",
    "See the above item to find your `.bash_profile`, `.profile`, or `.bashrc` file. Open it, and add the line `unset PYTHONPATH` at the end. Close the file, open a new terminal window, type `source ~/.profile` (or whatever file you just edited), and try again.\n",
    "***\n",
    "\n",
    "**Problem**\n",
    "Under Windows, you receive an error message similar to the following: \"'pip' is not recognized as an internal or external command, operable program or batch file.\"\n",
    "\n",
    "**Reason**\n",
    "The correct Anaconda paths might not be present in your PATH variable, or Anaconda might not have installed correctly.\n",
    "\n",
    "**Solution**\n",
    "Ensure the Anaconda directories to your path environment variable (\"\\Anaconda\" and \"\\Anaconda\\Scripts\").  See [this page](http://superuser.com/questions/284342/what-are-path-and-other-environment-variables-and-how-can-i-set-or-use-them) for details.\n",
    "\n",
    "If this does not correct the problem, reinstall Anaconda."
   ]
  },
  {
   "cell_type": "markdown",
   "metadata": {},
   "source": [
    "# Hello, Python"
   ]
  },
  {
   "cell_type": "markdown",
   "metadata": {},
   "source": [
    "The IPython notebook is an application to build interactive computational notebooks. You'll be using them in this class. Once you've set up Python, please download this page by clicking the download button in the upper right corner at http://nbviewer.ipython.org/github/rahuldave/dst4l-copenhagen/blob/master/dst4l0.ipynb and open it with IPython by typing\n",
    "\n",
    "```\n",
    "ipython notebook <name_of_downloaded_file>\n",
    "```"
   ]
  },
  {
   "cell_type": "markdown",
   "metadata": {},
   "source": [
    "For the rest of the assignment, use your local copy of this page, running on IPython.\n",
    "\n",
    "Notebooks are composed of many \"cells\", which can contain text (like this one), or code (like the one below). Double click on the cell below, and evaluate it by clicking the \"play\" button above, for by hitting shift + enter"
   ]
  },
  {
   "cell_type": "code",
   "execution_count": 1,
   "metadata": {
    "collapsed": false
   },
   "outputs": [
    {
     "name": "stdout",
     "output_type": "stream",
     "text": [
      "Item is  10\n",
      "Item is  20\n",
      "Item is  30\n",
      "Item is  40\n",
      "Item is  50\n"
     ]
    }
   ],
   "source": [
    "x = [10, 20, 30, 40, 50]\n",
    "for item in x:\n",
    "    print \"Item is \", item"
   ]
  },
  {
   "cell_type": "markdown",
   "metadata": {},
   "source": [
    "## Python Libraries"
   ]
  },
  {
   "cell_type": "markdown",
   "metadata": {},
   "source": [
    "We will be using a several different libraries throughout this course. If you've successfully completed the [installation instructions](https://github.com/cs109/content/wiki/Installing-Python), all of the following statements should run."
   ]
  },
  {
   "cell_type": "code",
   "execution_count": 2,
   "metadata": {
    "collapsed": false
   },
   "outputs": [
    {
     "name": "stdout",
     "output_type": "stream",
     "text": [
      "IPython version:       4.0.0 (need at least 3.0.0)\n",
      "Numpy version:         1.9.2 (need at least 1.9.1)\n",
      "SciPy version:        0.15.1 (need at least 0.15.1)\n",
      "Pandas version:       0.16.2 (need at least 0.16.2)\n",
      "Mapltolib version:     1.4.3 (need at least 1.4.1)\n",
      "Scikit-Learn version: 0.16.1 (need at least 0.16.1)\n",
      "requests version:      2.7.0 (need at least 2.0.0)\n",
      "Loaded PyQuery\n"
     ]
    }
   ],
   "source": [
    "#IPython is what you are using now to run the notebook\n",
    "import IPython\n",
    "print \"IPython version:      %6.6s (need at least 3.0.0)\" % IPython.__version__\n",
    "\n",
    "# Numpy is a library for working with Arrays\n",
    "import numpy as np\n",
    "print \"Numpy version:        %6.6s (need at least 1.9.1)\" % np.__version__\n",
    "\n",
    "# SciPy implements many different numerical algorithms\n",
    "import scipy as sp\n",
    "print \"SciPy version:        %6.6s (need at least 0.15.1)\" % sp.__version__\n",
    "\n",
    "# Pandas makes working with data tables easier\n",
    "import pandas as pd\n",
    "print \"Pandas version:       %6.6s (need at least 0.16.2)\" % pd.__version__\n",
    "\n",
    "# Module for plotting\n",
    "import matplotlib\n",
    "print \"Mapltolib version:    %6.6s (need at least 1.4.1)\" % matplotlib.__version__\n",
    "\n",
    "# SciKit Learn implements several Machine Learning algorithms\n",
    "import sklearn\n",
    "print \"Scikit-Learn version: %6.6s (need at least 0.16.1)\" % sklearn.__version__\n",
    "\n",
    "# Requests is a library for getting data from the Web\n",
    "import requests\n",
    "print \"requests version:     %6.6s (need at least 2.0.0)\" % requests.__version__\n",
    "\n",
    "import pyquery\n",
    "print \"Loaded PyQuery\""
   ]
  },
  {
   "cell_type": "markdown",
   "metadata": {},
   "source": [
    "If any of these libraries are missing or out of date, you will need to [install them](https://github.com/cs109/content/wiki/Installing-Python#installing-additional-libraries) and restart IPython"
   ]
  },
  {
   "cell_type": "markdown",
   "metadata": {},
   "source": [
    "## Hello World"
   ]
  },
  {
   "cell_type": "markdown",
   "metadata": {},
   "source": [
    "The following is the incantation we like to put at the beginning of every notebook. It loads most of the stuff we will regularly use."
   ]
  },
  {
   "cell_type": "code",
   "execution_count": 3,
   "metadata": {
    "collapsed": false
   },
   "outputs": [],
   "source": [
    "%matplotlib inline \n",
    "#this line above prepares IPython notebook for working with matplotlib\n",
    "import numpy as np # imports a fast numerical programming library\n",
    "import scipy as sp #imports stats functions, amongst other things\n",
    "import matplotlib as mpl # this actually imports matplotlib\n",
    "import matplotlib.cm as cm #allows us easy access to colormaps\n",
    "import matplotlib.pyplot as plt #sets up plotting under plt\n",
    "import pandas as pd #lets us handle data as dataframes\n",
    "#sets up pandas table display\n",
    "pd.set_option('display.width', 500)\n",
    "pd.set_option('display.max_columns', 100)\n",
    "pd.set_option('display.notebook_repr_html', True)\n",
    "import seaborn as sns #sets up styles and gives us more plotting options"
   ]
  },
  {
   "cell_type": "markdown",
   "metadata": {},
   "source": [
    "## Hello matplotlib"
   ]
  },
  {
   "cell_type": "markdown",
   "metadata": {},
   "source": [
    "The notebook integrates nicely with Matplotlib, the primary plotting package for python. This should embed a figure of a sine wave:"
   ]
  },
  {
   "cell_type": "code",
   "execution_count": 4,
   "metadata": {
    "collapsed": false
   },
   "outputs": [
    {
     "data": {
      "text/plain": [
       "<matplotlib.text.Text at 0x109e10690>"
      ]
     },
     "execution_count": 4,
     "metadata": {},
     "output_type": "execute_result"
    },
    {
     "data": {
      "image/png": "[encoded data removed]",
      "text/plain": [
       "<matplotlib.figure.Figure at 0x1039e3490>"
      ]
     },
     "metadata": {},
     "output_type": "display_data"
    }
   ],
   "source": [
    "\n",
    "# this actually imports matplotlib\n",
    "import matplotlib.pyplot as plt  \n",
    "\n",
    "# this sets up some styles\n",
    "import seaborn as sns\n",
    "\n",
    "#We \n",
    "\n",
    "x = np.linspace(0, 10, 30)  #array of 30 points from 0 to 10\n",
    "y = np.sin(x)\n",
    "z = y + np.random.normal(size=30) * .2\n",
    "plt.plot(x, y, 'o-', label='A sine wave')\n",
    "plt.plot(x, z, '-', label='Noisy sine')\n",
    "plt.legend(loc = 'lower right')\n",
    "plt.xlabel(\"X axis\")\n",
    "plt.ylabel(\"Y axis\")           "
   ]
  },
  {
   "cell_type": "markdown",
   "metadata": {},
   "source": [
    "## Hello Numpy"
   ]
  },
  {
   "cell_type": "markdown",
   "metadata": {},
   "source": [
    "The Numpy array processing library is the basis of nearly all numerical computing in Python. Here's a 30 second crash course."
   ]
  },
  {
   "cell_type": "code",
   "execution_count": 5,
   "metadata": {
    "collapsed": false
   },
   "outputs": [
    {
     "name": "stdout",
     "output_type": "stream",
     "text": [
      "Make a 3 row x 4 column array of random numbers\n",
      "[[ 0.02540992  0.18483676  0.42423388  0.16296692]\n",
      " [ 0.02068668  0.98161792  0.26106737  0.36014555]\n",
      " [ 0.58857564  0.21784032  0.89768907  0.35264661]]\n",
      "\n",
      "Add 1 to every element\n",
      "[[ 1.02540992  1.18483676  1.42423388  1.16296692]\n",
      " [ 1.02068668  1.98161792  1.26106737  1.36014555]\n",
      " [ 1.58857564  1.21784032  1.89768907  1.35264661]]\n",
      "\n",
      "Get the element at row 1, column 2\n",
      "1.26106736993\n",
      "\n",
      "Get the first row\n",
      "[ 1.02540992  1.18483676  1.42423388  1.16296692]\n",
      "\n",
      "Get every 2nd column of the first row\n",
      "[ 1.02540992  1.42423388]\n",
      "\n"
     ]
    }
   ],
   "source": [
    "print \"Make a 3 row x 4 column array of random numbers\"\n",
    "x = np.random.random((3, 4))\n",
    "print x\n",
    "print\n",
    "\n",
    "print \"Add 1 to every element\"\n",
    "x = x + 1\n",
    "print x\n",
    "print\n",
    "\n",
    "print \"Get the element at row 1, column 2\"\n",
    "print x[1, 2]\n",
    "print\n",
    "\n",
    "# The colon syntax is called \"slicing\" the array. \n",
    "print \"Get the first row\"\n",
    "print x[0, :]\n",
    "print\n",
    "\n",
    "print \"Get every 2nd column of the first row\"\n",
    "print x[0, ::2]\n",
    "print"
   ]
  },
  {
   "cell_type": "markdown",
   "metadata": {},
   "source": [
    "Print the maximum, minimum, and mean of the array. This does **not** require writing a loop. In the code cell below, type `x.m<TAB>`, to find built-in operations for common array statistics like this"
   ]
  },
  {
   "cell_type": "code",
   "execution_count": 6,
   "metadata": {
    "collapsed": false
   },
   "outputs": [
    {
     "name": "stdout",
     "output_type": "stream",
     "text": [
      "Max is   1.98161791838\n",
      "Min is   1.02068667895\n",
      "Mean is  1.37314305342\n"
     ]
    }
   ],
   "source": [
    "#your code here\n",
    "print \"Max is  \", x.max()\n",
    "print \"Min is  \", x.min()\n",
    "print \"Mean is \", x.mean()"
   ]
  },
  {
   "cell_type": "markdown",
   "metadata": {},
   "source": [
    "Call the `x.max` function again, but use the `axis` keyword to print the maximum of each row in x."
   ]
  },
  {
   "cell_type": "code",
   "execution_count": 7,
   "metadata": {
    "collapsed": false
   },
   "outputs": [
    {
     "name": "stdout",
     "output_type": "stream",
     "text": [
      "[ 1.42423388  1.98161792  1.89768907]\n"
     ]
    }
   ],
   "source": [
    "#your code here\n",
    "print x.max(axis=1)"
   ]
  },
  {
   "cell_type": "markdown",
   "metadata": {},
   "source": [
    "Here's a way to quickly simulate 500 coin \"fair\" coin tosses (where the probabily of getting Heads is 50%, or 0.5)"
   ]
  },
  {
   "cell_type": "code",
   "execution_count": 8,
   "metadata": {
    "collapsed": false
   },
   "outputs": [
    {
     "name": "stdout",
     "output_type": "stream",
     "text": [
      "number of heads: 259\n"
     ]
    }
   ],
   "source": [
    "x = np.random.binomial(500, .5)\n",
    "print \"number of heads:\", x"
   ]
  },
  {
   "cell_type": "markdown",
   "metadata": {},
   "source": [
    "Repeat this simulation 500 times, and use the [plt.hist() function](http://matplotlib.org/api/pyplot_api.html#matplotlib.pyplot.hist) to plot a histogram of the number of Heads (1s) in each simulation"
   ]
  },
  {
   "cell_type": "code",
   "execution_count": 9,
   "metadata": {
    "collapsed": false
   },
   "outputs": [
    {
     "data": {
      "image/png": "[encoded data removed]",
      "text/plain": [
       "<matplotlib.figure.Figure at 0x109d8f610>"
      ]
     },
     "metadata": {},
     "output_type": "display_data"
    }
   ],
   "source": [
    "#your code here\n",
    "\n",
    "# 3 ways to run the simulations\n",
    "\n",
    "# loop\n",
    "heads = []\n",
    "for i in range(500):\n",
    "    heads.append(np.random.binomial(500, .5))\n",
    "\n",
    "# \"list comprehension\"\n",
    "heads = [np.random.binomial(500, .5) for i in range(500)]\n",
    "\n",
    "# pure numpy\n",
    "heads = np.random.binomial(500, .5, size=500)\n",
    "\n",
    "histogram = plt.hist(heads, bins=10)"
   ]
  },
  {
   "cell_type": "code",
   "execution_count": 10,
   "metadata": {
    "collapsed": false
   },
   "outputs": [
    {
     "data": {
      "text/plain": [
       "(500,)"
      ]
     },
     "execution_count": 10,
     "metadata": {},
     "output_type": "execute_result"
    }
   ],
   "source": [
    "heads.shape"
   ]
  }
 ],
 "metadata": {
  "kernelspec": {
   "display_name": "Python 2",
   "language": "python",
   "name": "python2"
  },
  "language_info": {
   "codemirror_mode": {
    "name": "ipython",
    "version": 2
   },
   "file_extension": ".py",
   "mimetype": "text/x-python",
   "name": "python",
   "nbconvert_exporter": "python",
   "pygments_lexer": "ipython2",
   "version": "2.7.10"
  }
 },
 "nbformat": 4,
 "nbformat_minor": 0
}
